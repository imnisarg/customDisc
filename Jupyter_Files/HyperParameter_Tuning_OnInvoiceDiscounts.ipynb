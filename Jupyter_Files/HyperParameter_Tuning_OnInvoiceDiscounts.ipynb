{
 "cells": [
  {
   "cell_type": "markdown",
   "metadata": {},
   "source": [
    "# Hyper Parameter Tuning for predicting OnInvoice Discounts\n",
    "Having identified that GBR model works well in previous section based on K fold cross validation scores and Training mean squared error , in this notebook we try to tune the model for better performance\n",
    "\n",
    "We use bayesSearchCV to find the best parameters for our GBR model"
   ]
  },
  {
   "cell_type": "code",
   "execution_count": 1,
   "metadata": {},
   "outputs": [],
   "source": [
    "#### IMPORTS\n",
    "\n",
    "import pandas as pd\n",
    "import numpy as np\n",
    "from types import FunctionType\n",
    "from sklearn.model_selection import train_test_split\n",
    "import math\n",
    "import matplotlib.pyplot as plt\n",
    "# Importing sklearn methods\n",
    "from sklearn import linear_model\n",
    "from sklearn.ensemble import RandomForestRegressor\n",
    "from sklearn.metrics import mean_squared_error\n",
    "from sklearn import svm\n",
    "from sklearn.ensemble import GradientBoostingRegressor\n",
    "from sklearn.model_selection import cross_val_score\n",
    "from sklearn import model_selection\n",
    "from sklearn.model_selection import GridSearchCV\n",
    "from sklearn import tree\n",
    "from skopt import BayesSearchCV\n",
    "import skopt\n",
    "import pickle"
   ]
  },
  {
   "cell_type": "code",
   "execution_count": 2,
   "metadata": {},
   "outputs": [
    {
     "name": "stdout",
     "output_type": "stream",
     "text": [
      "0.3232645073885446\n"
     ]
    }
   ],
   "source": [
    "# data2.xlsx is the data obtained after running the feature engineering code\n",
    "# data3.csv : converted data2.xlsx to data3.csv because of easiness of use of csv files in webapps\n",
    "path = r\"C:\\Users\\NISARG\\Desktop\\mech\\Finance\\Maverick\\CODE\"   #change the path to your local path\n",
    "df = pd.read_csv(path + \"\\data3.csv\")\n",
    "\n",
    "\n",
    "count = 0\n",
    "index_test = list()\n",
    "index_train = list()\n",
    "for i in range(len(df['upper_limit'])):\n",
    "    if(df['Discount_Total'][i]>df['upper_limit'][i]):\n",
    "        count+=1\n",
    "        index_test.append(i)\n",
    "    else:\n",
    "        index_train.append(i)\n",
    "print(count/len(df['upper_limit']))"
   ]
  },
  {
   "cell_type": "code",
   "execution_count": 3,
   "metadata": {},
   "outputs": [],
   "source": [
    "\n",
    "'''\n",
    "Here we get the train and test datasets based on the logic described above\n",
    "'''\n",
    "\n",
    "df_test = df.iloc[index_test]\n",
    "df_test = df_test.reset_index()\n",
    "df_train = df.iloc[index_train]\n",
    "df_train = df_train.reset_index()     "
   ]
  },
  {
   "cell_type": "code",
   "execution_count": 4,
   "metadata": {},
   "outputs": [],
   "source": [
    "'''\n",
    "Encoding categorical variables here\n",
    "'''\n",
    "\n",
    "\n",
    "from sklearn.preprocessing import LabelEncoder\n",
    "def encodeWithSave(highGTOData):\n",
    "    lb_make = LabelEncoder()\n",
    "    highGTOData['sdfc_Tier'] = lb_make.fit_transform(highGTOData['sdfc_Tier'])\n",
    "    print(lb_make.classes_)\n",
    "    np.save('classes_sdfc_tier.npy', lb_make.classes_)\n",
    "    for i in range(len(highGTOData['GTO_2019'])):\n",
    "        if(highGTOData['poc_image'][i]==0):\n",
    "            highGTOData['poc_image'][i] = \"Mainstream\"\n",
    "    highGTOData['poc_image'] = lb_make.fit_transform(highGTOData['poc_image'])\n",
    "    np.save('classes_poc_image.npy', lb_make.classes_)\n",
    "    highGTOData['segment'] = lb_make.fit_transform(highGTOData['segment'])\n",
    "    np.save('classes_segment.npy', lb_make.classes_)\n",
    "    highGTOData['sub_segment'] = lb_make.fit_transform(highGTOData['sub_segment'])\n",
    "    np.save('classes_sub_segment.npy', lb_make.classes_)\n",
    "    highGTOData['Product Set'] = lb_make.fit_transform(highGTOData['Product Set'])\n",
    "    np.save('classes_Product Set.npy', lb_make.classes_)\n",
    "    highGTOData['Brand'] = lb_make.fit_transform(highGTOData['Brand'])\n",
    "    np.save('classes_Brand.npy', lb_make.classes_)\n",
    "    highGTOData['Sub-Brand'] = lb_make.fit_transform(highGTOData['Sub-Brand'])\n",
    "    np.save('classes_Sub_Brand.npy', lb_make.classes_)\n",
    "    highGTOData['Pack_Type'] = lb_make.fit_transform(highGTOData['Pack_Type'])\n",
    "    np.save('classes_Pack_Type.npy', lb_make.classes_)\n",
    "    highGTOData['Returnalility'] = lb_make.fit_transform(highGTOData['Returnalility'])\n",
    "    np.save('classes_Returnalility.npy', lb_make.classes_)\n",
    "    highGTOData['province'] = lb_make.fit_transform(highGTOData['province'])\n",
    "    np.save('classes_province.npy', lb_make.classes_)\n",
    "    highGTOData['GTO_growth'] = highGTOData['Expected_GTO'] - highGTOData['GTO_2019']\n",
    "    return highGTOData\n",
    "\n",
    "\n",
    "def encode(highGTOData):\n",
    "    lb_make = LabelEncoder()\n",
    "    highGTOData['sdfc_Tier'] = lb_make.fit_transform(highGTOData['sdfc_Tier'])\n",
    "    for i in range(len(highGTOData['GTO_2019'])):\n",
    "        if(highGTOData['poc_image'][i]==0):\n",
    "            highGTOData['poc_image'][i] = \"Mainstream\"\n",
    "    highGTOData['poc_image'] = lb_make.fit_transform(highGTOData['poc_image'])\n",
    "    highGTOData['segment'] = lb_make.fit_transform(highGTOData['segment'])\n",
    "    highGTOData['sub_segment'] = lb_make.fit_transform(highGTOData['sub_segment'])\n",
    "    highGTOData['Product Set'] = lb_make.fit_transform(highGTOData['Product Set'])\n",
    "    highGTOData['Brand'] = lb_make.fit_transform(highGTOData['Brand'])\n",
    "    highGTOData['Sub-Brand'] = lb_make.fit_transform(highGTOData['Sub-Brand'])\n",
    "    highGTOData['Pack_Type'] = lb_make.fit_transform(highGTOData['Pack_Type'])\n",
    "    highGTOData['Returnalility'] = lb_make.fit_transform(highGTOData['Returnalility'])\n",
    "    highGTOData['province'] = lb_make.fit_transform(highGTOData['province'])\n",
    "    highGTOData['GTO_growth'] = highGTOData['Expected_GTO'] - highGTOData['GTO_2019']\n",
    "    return highGTOData\n",
    "\n",
    "\n",
    "#df = encodeWithSave(df)\n",
    "\n"
   ]
  },
  {
   "cell_type": "code",
   "execution_count": 5,
   "metadata": {},
   "outputs": [
    {
     "name": "stderr",
     "output_type": "stream",
     "text": [
      "C:\\Users\\NISARG\\AppData\\Roaming\\Python\\Python36\\site-packages\\ipykernel_launcher.py:42: SettingWithCopyWarning: \n",
      "A value is trying to be set on a copy of a slice from a DataFrame\n",
      "\n",
      "See the caveats in the documentation: http://pandas.pydata.org/pandas-docs/stable/indexing.html#indexing-view-versus-copy\n"
     ]
    }
   ],
   "source": [
    "df_test = encode(df_test)\n",
    "df_train = encode(df_train)"
   ]
  },
  {
   "cell_type": "code",
   "execution_count": 6,
   "metadata": {},
   "outputs": [],
   "source": [
    "\n",
    "\n",
    "\n",
    "lowGTOData_train = df_train[df_train.GTO_2019<10000]\n",
    "lowGTOData_test = df_test[df_test.GTO_2019<10000]\n",
    "\n",
    "midGTOData_train = df_train[(df_train.GTO_2019>10000)&(df_train.GTO_2019<50000)]\n",
    "midGTOData_test = df_test[(df_test.GTO_2019>10000)&(df_test.GTO_2019<50000)]\n",
    "\n",
    "highGTOData_train = df_train[df_train.GTO_2019>50000]\n",
    "highGTOData_test = df_test[df_test.GTO_2019>50000]"
   ]
  },
  {
   "cell_type": "code",
   "execution_count": 7,
   "metadata": {},
   "outputs": [],
   "source": [
    "lowGTOData_train = lowGTOData_train.reset_index()\n",
    "lowGTOData_test = lowGTOData_test.reset_index()\n",
    "target_train = lowGTOData_train['OnInvoice Discount(LCU)']\n",
    "target_test = lowGTOData_test['OnInvoice Discount(LCU)']\n",
    "colsToKeep = ['Volume_2019' , 'Volume_2018'  , 'Expected_GTO'  , 'Expected_product_volume', 'profitability_indicator' , 'upper_limit'  ,'sdfc_Tier'  , 'loyalty_index' , 'Returnalility', 'market_cap' ]\n",
    "features_train = lowGTOData_train[colsToKeep]\n",
    "features_test = lowGTOData_test[colsToKeep]"
   ]
  },
  {
   "cell_type": "markdown",
   "metadata": {},
   "source": [
    "# Parameters to focus on in Gradient Boosting Regressor\n",
    "\n",
    "    1) loss :\n",
    "        a. ls : least square regression\n",
    "        b. lad : least absolute deviation\n",
    "        c. huber : Combination of ls & lad\n",
    "        d. quantile : Used in quantile regression\n",
    "        \n",
    "    2) learning_rate : Learning rate is used to shrink the contribution of each tree in GBR , we try values of learning rate from 0.05 to 0.3 with step of 0.05\n",
    "    \n",
    "    3) n_estimators : No of boostings performed . Larger the number , better is the fit , but it can lead to overfitting as well\n",
    "    \n",
    "    4) subsample : The fraction of samples to be used for fitting the individual base learners. If smaller than 1.0 this results in Stochastic Gradient Boosting. subsample interacts with the parameter n_estimators. Choosing subsample < 1.0 leads to a reduction of variance and an increase in bias.\n",
    "    \n",
    "    5) criterion : function to measure quality of split\n",
    "        a. friedman_mse : mse with improvement by friedman\n",
    "        b. mse : mean squared error\n",
    "        \n",
    "    6) max_depth : Maximum depth of the individual regression estimators. The maximum depth limits the number of nodes in the tree. The best value depends on the interaction of the input variables. We try max_depth from 2 to 8 with step of 1\n",
    "    \n",
    "    7) max_features : auto , sqrt , log2 \n",
    "        a. auto : max_features = n_features\n",
    "        b. sqrt : max_features = sqrt(n_features)\n",
    "        c. log2 : max_features = log2(n_features) "
   ]
  },
  {
   "cell_type": "code",
   "execution_count": 9,
   "metadata": {},
   "outputs": [],
   "source": [
    "params = dict()\n",
    "params['loss'] = ['ls', 'lad', 'huber', 'quantile']\n",
    "params['learning_rate'] = [0.05,0.1,0.15,0.2,0.25,0.3]\n",
    "params['n_estimators'] = [50,100,150,200,250,300,350,400]\n",
    "params['subsample'] = [0.6,0.8,1]\n",
    "params['criterion'] = ['friedman_mse', 'mse']\n",
    "params['max_depth'] = [2,3,4,5,6,7,8]\n",
    "params['max_features'] = ['auto', 'sqrt', 'log2']\n",
    "\n"
   ]
  },
  {
   "cell_type": "code",
   "execution_count": 10,
   "metadata": {},
   "outputs": [],
   "source": [
    "kfold = model_selection.KFold(n_splits=10, shuffle=True, random_state=34234)\n",
    "# define the search\n",
    "search = BayesSearchCV(estimator=GradientBoostingRegressor(), search_spaces=params, n_jobs=-1, cv=kfold)"
   ]
  },
  {
   "cell_type": "code",
   "execution_count": 11,
   "metadata": {},
   "outputs": [
    {
     "name": "stdout",
     "output_type": "stream",
     "text": [
      "0.5805991782410778\n",
      "OrderedDict([('criterion', 'mse'), ('learning_rate', 0.05), ('loss', 'huber'), ('max_depth', 7), ('max_features', 'auto'), ('n_estimators', 250), ('subsample', 0.8)])\n"
     ]
    }
   ],
   "source": [
    "search.fit(features_train,target_train)\n",
    "# report the best result\n",
    "print(search.best_score_)\n",
    "print(search.best_params_)"
   ]
  },
  {
   "cell_type": "markdown",
   "metadata": {},
   "source": [
    "# Best Parameters for low GTO Data\n",
    "    1) criterion : mse\n",
    "    \n",
    "    2) learning_rate : 0.05\n",
    "    \n",
    "    3) loss : huber\n",
    "    \n",
    "    4) max_depth : 7\n",
    "    \n",
    "    5) max_features : auto\n",
    "    \n",
    "    6) n_estimators : 250\n",
    "    \n",
    "    7) subsample : 0.8"
   ]
  },
  {
   "cell_type": "markdown",
   "metadata": {},
   "source": [
    "# Running ML Model with best parameters and saving it"
   ]
  },
  {
   "cell_type": "code",
   "execution_count": 8,
   "metadata": {},
   "outputs": [
    {
     "name": "stdout",
     "output_type": "stream",
     "text": [
      "[0.55713378 0.58982931 0.60904525 0.53063144 0.60572675 0.55849369\n",
      " 0.57606577 0.57743952 0.58919725 0.60498865]\n",
      "0.5798551419673723\n",
      "89.22967369868886\n",
      "341.48362669898916\n"
     ]
    }
   ],
   "source": [
    "import joblib\n",
    "\n",
    "\n",
    "gbr = GradientBoostingRegressor(criterion = 'mse' , n_estimators=250, learning_rate=0.05, max_depth=7, max_features = 'auto', loss='huber' , subsample = 0.8)\n",
    "\n",
    "gbr.fit(features_train,target_train)\n",
    "kfold = model_selection.KFold(n_splits=10, shuffle=True, random_state=34234)\n",
    "cross_val_scores = cross_val_score(gbr, features_train, target_train, cv=kfold )\n",
    "mse_train = math.sqrt(mean_squared_error(target_train,gbr.predict(features_train)))\n",
    "mse = math.sqrt(mean_squared_error(target_test, gbr.predict(features_test)))\n",
    "print(cross_val_scores)\n",
    "print(np.mean(cross_val_scores))\n",
    "print(mse_train)\n",
    "print(mse)\n",
    "\n",
    "\n",
    "filename = 'lowGTOModel_OnInvoiceDiscount.sav'\n",
    "joblib.dump(gbr, open(filename, 'wb'))\n",
    "\n",
    "\n"
   ]
  },
  {
   "cell_type": "code",
   "execution_count": 7,
   "metadata": {},
   "outputs": [],
   "source": [
    "'''\n",
    "Keeping the features as seen from EXPLORATORY DATA ANALYSIS\n",
    "'''\n",
    "\n",
    "midGTOData_train = midGTOData_train.reset_index()\n",
    "midGTOData_test = midGTOData_test.reset_index()\n",
    "target_train = midGTOData_train['Discount_Total']\n",
    "target_test = midGTOData_test['Discount_Total']\n",
    "colsToKeep = ['Volume_2019' , 'Volume_2018' ,'Volume_2019 Product' ,'Expected_GTO','Expected_product_volume' , 'profitability_indicator' , 'upper_limit'  ,'sdfc_Tier'  , 'loyalty_index' , 'Returnalility',  'inventory_lingering_factor', 'market_cap',\n",
    "       'order_size']\n",
    "features_train = midGTOData_train[colsToKeep]\n",
    "features_test = midGTOData_test[colsToKeep]"
   ]
  },
  {
   "cell_type": "code",
   "execution_count": 15,
   "metadata": {},
   "outputs": [],
   "source": [
    "kfold = model_selection.KFold(n_splits=10, shuffle=True, random_state=1)\n",
    "# define the search\n",
    "search = BayesSearchCV(estimator=GradientBoostingRegressor(), search_spaces=params, n_jobs=-1, cv=kfold)"
   ]
  },
  {
   "cell_type": "code",
   "execution_count": 16,
   "metadata": {},
   "outputs": [
    {
     "name": "stdout",
     "output_type": "stream",
     "text": [
      "0.4889008475019431\n",
      "OrderedDict([('criterion', 'friedman_mse'), ('learning_rate', 0.05), ('loss', 'ls'), ('max_depth', 3), ('max_features', 'auto'), ('n_estimators', 300), ('subsample', 0.6)])\n"
     ]
    }
   ],
   "source": [
    "search.fit(features_train,target_train)\n",
    "# report the best result\n",
    "print(search.best_score_)\n",
    "print(search.best_params_)"
   ]
  },
  {
   "cell_type": "markdown",
   "metadata": {},
   "source": [
    "# Best Parameters for mid GTO Data\n",
    "    1) criterion : friedman_mse\n",
    "    \n",
    "    2) learning_rate : 0.05\n",
    "    \n",
    "    3) loss : ls\n",
    "    \n",
    "    4) max_depth = 3\n",
    "    \n",
    "    5) max_features = auto\n",
    "    \n",
    "    6) n_estimators = 300\n",
    "    \n",
    "    7) subsample = 0.6"
   ]
  },
  {
   "cell_type": "markdown",
   "metadata": {},
   "source": [
    "# Running model with best parameters and saving it"
   ]
  },
  {
   "cell_type": "code",
   "execution_count": 10,
   "metadata": {},
   "outputs": [
    {
     "name": "stdout",
     "output_type": "stream",
     "text": [
      "[0.62528884 0.30908704 0.49566408 0.28456212 0.40854459 0.69821543\n",
      " 0.57775693 0.40176196 0.50746918 0.5111134 ]\n",
      "0.48194635517864015\n",
      "1333.8187381634866\n",
      "6305.7931443586585\n"
     ]
    }
   ],
   "source": [
    "import joblib\n",
    "gbr = GradientBoostingRegressor(criterion = 'friedman_mse' , n_estimators=300, learning_rate=0.05, max_depth=3, max_features = 'auto', loss='ls' , subsample = 0.6)\n",
    "gbr.fit(features_train,target_train)\n",
    "kfold = model_selection.KFold(n_splits=10, shuffle=True, random_state=34234)\n",
    "cross_val_scores = cross_val_score(gbr, features_train, target_train, cv=kfold )\n",
    "mse_train = math.sqrt(mean_squared_error(target_train,gbr.predict(features_train)))\n",
    "mse = math.sqrt(mean_squared_error(target_test, gbr.predict(features_test)))\n",
    "print(cross_val_scores)\n",
    "print(np.mean(cross_val_scores))\n",
    "print(mse_train)\n",
    "print(mse)\n",
    "\n",
    "\n",
    "\n",
    "filename = 'midGTOModel_OnInvoiceDiscount.sav'\n",
    "joblib.dump(gbr, open(filename, 'wb'))"
   ]
  },
  {
   "cell_type": "code",
   "execution_count": 17,
   "metadata": {},
   "outputs": [],
   "source": [
    "'''\n",
    "Keeping the features as seen from EXPLORATORY DATA ANALYSIS\n",
    "'''\n",
    "\n",
    "\n",
    "highGTOData_train = highGTOData_train.reset_index()\n",
    "highGTOData_test = highGTOData_test.reset_index()\n",
    "target_train = highGTOData_train['Discount_Total']\n",
    "target_test = highGTOData_test['Discount_Total']\n",
    "colsToKeep = ['Volume_2019' , 'Volume_2018' ,'Volume_2019 Product' ,'Expected_GTO','Expected_product_volume' , 'profitability_indicator' , 'upper_limit'  ,  'inventory_lingering_factor',\n",
    "       'order_size']\n",
    "features_train = highGTOData_train[colsToKeep]\n",
    "features_test = highGTOData_test[colsToKeep]"
   ]
  },
  {
   "cell_type": "code",
   "execution_count": 19,
   "metadata": {},
   "outputs": [],
   "source": [
    "kfold = model_selection.KFold(n_splits=10, shuffle=True, random_state=34234)\n",
    "# define the search\n",
    "search = BayesSearchCV(estimator=GradientBoostingRegressor(), search_spaces=params, n_jobs=-1, cv=kfold)"
   ]
  },
  {
   "cell_type": "code",
   "execution_count": 20,
   "metadata": {},
   "outputs": [
    {
     "name": "stderr",
     "output_type": "stream",
     "text": [
      "C:\\Users\\NISARG\\AppData\\Local\\Continuum\\anaconda3\\lib\\site-packages\\skopt\\optimizer\\optimizer.py:449: UserWarning: The objective has been evaluated at this point before.\n",
      "  warnings.warn(\"The objective has been evaluated \"\n"
     ]
    },
    {
     "name": "stdout",
     "output_type": "stream",
     "text": [
      "0.19788519762697399\n",
      "OrderedDict([('criterion', 'friedman_mse'), ('learning_rate', 0.1), ('loss', 'ls'), ('max_depth', 5), ('max_features', 'sqrt'), ('n_estimators', 150), ('subsample', 0.8)])\n"
     ]
    }
   ],
   "source": [
    "search.fit(features_train,target_train)\n",
    "# report the best result\n",
    "print(search.best_score_)\n",
    "print(search.best_params_)"
   ]
  },
  {
   "cell_type": "markdown",
   "metadata": {},
   "source": [
    "# Best Parameters for High GTO Data\n",
    "    1) criterion : friedman_mse\n",
    "    \n",
    "    2) learning_rate = 0.1\n",
    "    \n",
    "    3) loss : ls\n",
    "    \n",
    "    4) max_depth = 5\n",
    "    \n",
    "    5) max_features = sqrt\n",
    "    \n",
    "    6) n_estimators = 150\n",
    "    \n",
    "    7) subsample = 0.8"
   ]
  },
  {
   "cell_type": "markdown",
   "metadata": {},
   "source": [
    "# Running model on best parameters and saving it"
   ]
  },
  {
   "cell_type": "code",
   "execution_count": 18,
   "metadata": {},
   "outputs": [
    {
     "name": "stdout",
     "output_type": "stream",
     "text": [
      "[-3.41858905  0.53594471  0.85195547  0.85052957  0.62786209 -0.72858824\n",
      "  0.2885953  -1.38727719  0.78958495  0.94102403]\n",
      "-0.06489583580942725\n",
      "232.8254665083647\n",
      "175100.22324594305\n"
     ]
    }
   ],
   "source": [
    "gbr = GradientBoostingRegressor(criterion = 'friedman_mse' , n_estimators=150, learning_rate=0.1, max_depth=5, max_features = 'sqrt', loss='ls' , subsample = 0.8)\n",
    "\n",
    "gbr.fit(features_train,target_train)\n",
    "kfold = model_selection.KFold(n_splits=10, shuffle=True, random_state=34234)\n",
    "cross_val_scores = cross_val_score(gbr, features_train, target_train, cv=kfold )\n",
    "mse_train = math.sqrt(mean_squared_error(target_train,gbr.predict(features_train)))\n",
    "mse = math.sqrt(mean_squared_error(target_test, gbr.predict(features_test)))\n",
    "print(cross_val_scores)\n",
    "print(np.mean(cross_val_scores))\n",
    "print(mse_train)\n",
    "print(mse)\n",
    "\n",
    "\n",
    "filename = 'HighGTOModel_OnInvoiceDiscount.sav'\n",
    "joblib.dump(gbr, open(filename, 'wb'))"
   ]
  },
  {
   "cell_type": "code",
   "execution_count": null,
   "metadata": {},
   "outputs": [],
   "source": []
  }
 ],
 "metadata": {
  "kernelspec": {
   "display_name": "Python 3",
   "language": "python",
   "name": "python3"
  },
  "language_info": {
   "codemirror_mode": {
    "name": "ipython",
    "version": 3
   },
   "file_extension": ".py",
   "mimetype": "text/x-python",
   "name": "python",
   "nbconvert_exporter": "python",
   "pygments_lexer": "ipython3",
   "version": "3.6.5"
  }
 },
 "nbformat": 4,
 "nbformat_minor": 2
}
